{
 "cells": [
  {
   "cell_type": "code",
   "execution_count": 1,
   "metadata": {},
   "outputs": [],
   "source": [
    "import sys\n",
    "import numpy as np\n",
    "import matplotlib.pyplot as plt"
   ]
  },
  {
   "attachments": {},
   "cell_type": "markdown",
   "metadata": {},
   "source": [
    "# Modeling One nueron with n number of inputs"
   ]
  },
  {
   "cell_type": "code",
   "execution_count": 2,
   "metadata": {},
   "outputs": [
    {
     "data": {
      "text/plain": [
       "35.7"
      ]
     },
     "execution_count": 2,
     "metadata": {},
     "output_type": "execute_result"
    }
   ],
   "source": [
    "# modeling with one nueron and three inputs\n",
    "inputs=[1.2,5.1,2.1]\n",
    "weights=[3.1,2.1,8.7]\n",
    "bias=3\n",
    "\n",
    "output=inputs[0]*weights[0]+inputs[1]*weights[1]+inputs[2]*weights[2]+bias\n",
    "output"
   ]
  },
  {
   "cell_type": "code",
   "execution_count": 3,
   "metadata": {},
   "outputs": [
    {
     "data": {
      "text/plain": [
       "2.3"
      ]
     },
     "execution_count": 3,
     "metadata": {},
     "output_type": "execute_result"
    }
   ],
   "source": [
    "inputs=[1,2,3]\n",
    "weights=[0.2,0.8,-0.5]\n",
    "bias=2\n",
    "\n",
    "output=inputs[0]*weights[0]+inputs[1]*weights[1]+inputs[2]*weights[2]+bias\n",
    "output"
   ]
  },
  {
   "cell_type": "code",
   "execution_count": 4,
   "metadata": {},
   "outputs": [
    {
     "data": {
      "text/plain": [
       "4.8"
      ]
     },
     "execution_count": 4,
     "metadata": {},
     "output_type": "execute_result"
    }
   ],
   "source": [
    "# modeling with one nueron and four inputs\n",
    "inputs=[1,2,3,2.5]\n",
    "weights=[0.2,0.8,-0.5,1]\n",
    "bias=2\n",
    "\n",
    "output=inputs[0]*weights[0]+inputs[1]*weights[1]+inputs[2]*weights[2]+inputs[3]*weights[3]+bias\n",
    "output"
   ]
  },
  {
   "attachments": {},
   "cell_type": "markdown",
   "metadata": {},
   "source": [
    "# modeling 3 nuerons with four inputs"
   ]
  },
  {
   "cell_type": "code",
   "execution_count": 5,
   "metadata": {},
   "outputs": [
    {
     "data": {
      "text/plain": [
       "[4.8, 1.21, 2.385]"
      ]
     },
     "execution_count": 5,
     "metadata": {},
     "output_type": "execute_result"
    }
   ],
   "source": [
    "# modeling with one nueron and four inputs\n",
    "inputs=[1,2,3,2.5]\n",
    "weights1=[0.2,0.8,-0.5,1]\n",
    "weights2=[0.5,-0.91,0.26,-0.5]\n",
    "weights3=[-0.26,-0.27,0.17,0.87]\n",
    "bias1=2\n",
    "bias2=3\n",
    "bias3=0.5\n",
    "\n",
    "output=[inputs[0]*weights1[0]+inputs[1]*weights1[1]+inputs[2]*weights1[2]+inputs[3]*weights1[3]+bias1,\n",
    "        inputs[0]*weights2[0]+inputs[1]*weights2[1]+inputs[2]*weights2[2]+inputs[3]*weights2[3]+bias2,\n",
    "        inputs[0]*weights3[0]+inputs[1]*weights3[1]+inputs[2]*weights3[2]+inputs[3]*weights3[3]+bias3]\n",
    "output"
   ]
  },
  {
   "attachments": {},
   "cell_type": "markdown",
   "metadata": {},
   "source": [
    "# tuning the weights and bias is very necessary which we will see later"
   ]
  },
  {
   "cell_type": "code",
   "execution_count": 6,
   "metadata": {},
   "outputs": [
    {
     "name": "stdout",
     "output_type": "stream",
     "text": [
      "[4.8, 1.21, 2.385]\n"
     ]
    }
   ],
   "source": [
    "inputs=[1,2,3,2.5]\n",
    "weights=[[0.2,0.8,-0.5,1],[0.5,-0.91,0.26,-0.5],[-0.26,-0.27,0.17,0.87]]\n",
    "bias=[2,3,0.5]\n",
    "\n",
    "outputs=[]\n",
    "for nueron_weights,nueron_bias in zip(weights,bias):\n",
    "    output=0\n",
    "    for input,weight in zip(inputs,nueron_weights):\n",
    "        output+=input*weight\n",
    "    output+=nueron_bias\n",
    "    outputs.append(output)\n",
    "print(outputs)"
   ]
  },
  {
   "attachments": {},
   "cell_type": "markdown",
   "metadata": {},
   "source": [
    "* coverting this calculation to numpy"
   ]
  },
  {
   "cell_type": "code",
   "execution_count": 7,
   "metadata": {},
   "outputs": [
    {
     "data": {
      "text/plain": [
       "4.8"
      ]
     },
     "execution_count": 7,
     "metadata": {},
     "output_type": "execute_result"
    }
   ],
   "source": [
    "inputs=[1,2,3,2.5]\n",
    "weights=[0.2,0.8,-0.5,1]\n",
    "bias=2\n",
    "\n",
    "output=np.dot(inputs,weights)+bias\n",
    "output"
   ]
  },
  {
   "attachments": {},
   "cell_type": "markdown",
   "metadata": {},
   "source": [
    "* use the fist array in dot product always what the shape you want to get \n",
    "*        np.dot(weights,inputs) = np.dot(weights[0],inputs),np.dot(weights[1],inputs),np.dot(weights[2],inputs)"
   ]
  },
  {
   "cell_type": "code",
   "execution_count": 8,
   "metadata": {},
   "outputs": [
    {
     "data": {
      "text/plain": [
       "array([4.8  , 1.21 , 2.385])"
      ]
     },
     "execution_count": 8,
     "metadata": {},
     "output_type": "execute_result"
    }
   ],
   "source": [
    "inputs=[1,2,3,2.5]\n",
    "weights=[[0.2,0.8,-0.5,1],[0.5,-0.91,0.26,-0.5],[-0.26,-0.27,0.17,0.87]]\n",
    "bias=[2,3,0.5]\n",
    "# this will throw an error because \n",
    "# output=np.dot(inputs,weights)+bias\n",
    "\n",
    "\n",
    "output=np.dot(weights,inputs)+bias\n",
    "output"
   ]
  },
  {
   "attachments": {},
   "cell_type": "markdown",
   "metadata": {},
   "source": [
    "# didn't understand what are weights, inputs and biases are here...\n",
    "\n",
    "    we can say that the weights are the slope of the equation of the line and the biases are the intercept of that equation and the inputs are the variable x of theat line equation.\n",
    "       equation of line :- y=mx+c\n",
    "       where ,\n",
    "           m -->weight\n",
    "           x -->input\n",
    "           c -->bias\n",
    "           y -->output"
   ]
  },
  {
   "attachments": {},
   "cell_type": "markdown",
   "metadata": {},
   "source": [
    "# using batch \n",
    "we use batches for doing thins in parallel \n",
    "\n",
    "        if we use batch=1 , while fitting the best fitting line it will flactuate very quickly \n",
    "        if we use batch=2 , while fitting the best fitting line it will flactuate very less\n",
    "        if we use batch=all data , this will cause problem while generalizing the fitting line\n"
   ]
  },
  {
   "cell_type": "code",
   "execution_count": 9,
   "metadata": {},
   "outputs": [
    {
     "data": {
      "text/plain": [
       "array([[ 4.8  ,  1.21 ,  2.385],\n",
       "       [ 8.9  , -1.81 ,  0.2  ],\n",
       "       [ 1.41 ,  1.051,  0.026]])"
      ]
     },
     "execution_count": 9,
     "metadata": {},
     "output_type": "execute_result"
    }
   ],
   "source": [
    "inputs=[[1,2,3,2.5],\n",
    "                [2.0,5.0,-1.0,2.0],\n",
    "                [-1.5,2.7,3.3,-0.8]]\n",
    "weights=[[0.2,0.8,-0.5,1],[0.5,-0.91,0.26,-0.5],[-0.26,-0.27,0.17,0.87]]\n",
    "bias=[2,3,0.5]\n",
    "# this will throw an error because \n",
    "# output=np.dot(inputs,weights)+bias\n",
    "\n",
    "\n",
    "output=np.dot(inputs,np.transpose(weights))+bias\n",
    "output"
   ]
  },
  {
   "attachments": {},
   "cell_type": "markdown",
   "metadata": {},
   "source": [
    "* if we try to run this code we will get error because,\n",
    "*       we are trying to add another layer to our model and it is with  different weights and biases of different shapes which will cause error while running this code to overcome this we will use Objects in next cell"
   ]
  },
  {
   "cell_type": "code",
   "execution_count": 10,
   "metadata": {},
   "outputs": [
    {
     "data": {
      "text/plain": [
       "'\\nlayer1_outputs=np.dot(inputs,np.transpose(weights))+bias\\nlayer2_outputs=np.dot(layer1_outputs,np.transpose(weights2))+bias\\n'"
      ]
     },
     "execution_count": 10,
     "metadata": {},
     "output_type": "execute_result"
    }
   ],
   "source": [
    "inputs = [[1, 2, 3, 2.5],[2.0, 5.0, -1.0, 2.0],[-1.5, 2.7, 3.3, -0.8]]\n",
    "weights = [[0.2, 0.8, -0.5, 1], [0.5, -0.91,0.26, -0.5], [-0.26, -0.27, 0.17, 0.87]]\n",
    "bias = [2, 3, 0.5]\n",
    "\n",
    "weights2 = [[0.1, -0.14, 0.5], [-0.5, 0.12, -0.33], [-0.44, 0.73, -0.13]]\n",
    "bias2 = [-1, 2, -0.5]\n",
    "# this will throw an error because\n",
    "# output=np.dot(inputs,weights)+bias\n",
    "\n",
    "# if we try to run this code we will get error because we are trying to add another layer to our model and it is with  different weights and biases of different shapes which will cause error while running this code to overcome this we will use Objects in next cell\n",
    "\n",
    "\"\"\"\n",
    "layer1_outputs=np.dot(inputs,np.transpose(weights))+bias\n",
    "layer2_outputs=np.dot(layer1_outputs,np.transpose(weights2))+bias\n",
    "\"\"\"\n"
   ]
  },
  {
   "cell_type": "code",
   "execution_count": 11,
   "metadata": {},
   "outputs": [
    {
     "data": {
      "text/plain": [
       "array([[-0.01016362,  0.05501393,  0.02209668,  0.19362431,  0.08581252],\n",
       "       [ 0.00670105,  0.09099264,  0.05448575,  0.31238972,  0.03832855],\n",
       "       [-0.00271839,  0.03258391,  0.01560628,  0.11357657,  0.03627784]])"
      ]
     },
     "execution_count": 11,
     "metadata": {},
     "output_type": "execute_result"
    }
   ],
   "source": [
    "np.random.seed(0)\n",
    "X=[[1,2,3,2.5],\n",
    "                [2.0,5.0,-1.0,2.0],\n",
    "                [-1.5,2.7,3.3,-0.8]]\n",
    "\n",
    "class LayerDense:\n",
    "    def __init__(self,n_inputs,n_nuerons ):\n",
    "        self.weights=0.1*np.random.randn(n_inputs,n_nuerons)\n",
    "        self.biases=np.zeros((1,n_nuerons))\n",
    "    def forward(self,inputs):\n",
    "        self.output=np.dot(inputs,self.weights)+self.biases\n",
    "\n",
    "layer1=LayerDense(4,2)\n",
    "layer1.forward(X)\n",
    "layer2=LayerDense(2,5)\n",
    "layer2.forward(layer1.output)\n",
    "layer2.output\n"
   ]
  },
  {
   "attachments": {},
   "cell_type": "markdown",
   "metadata": {},
   "source": [
    "# what we did above?\n",
    "* initialised a class named LayerDense taking inputs as number of inputs and number of nuerons we we will get as output\n",
    "* defined random weights from gaussian distribussin and multiplied it with 0.1 for getting better weights of shape n_inputs,n_nuerons \n",
    "* Added a function called forward which takes in a vector of inputs and calculates the output.\n",
    "* we defined two layers :\n",
    "    * one having input shape n_inputs=4 and n_nuerons=2\n",
    "    * important:\n",
    "        *       while defining the next layer we need to keep in mind that the n_input must be same as we defined the n_nueron in previous layer\n",
    "    * Second layer have input shape=2 n_inputs=5"
   ]
  },
  {
   "attachments": {},
   "cell_type": "markdown",
   "metadata": {},
   "source": [
    "# What is activation function?\n",
    "* Every nueron in our nuueron network layer will have an activation function\n",
    "*       Sigmoid activation function\n",
    "                 1\n",
    "            y= -------\n",
    "                1+e^-x\n",
    "*       Rectifier Linear Unit activation function (ReLU)\n",
    "                {0, if x<=0\n",
    "              y={ \n",
    "                {x, if x>0\n",
    "\n",
    "# why to use activation function?\n",
    "\n",
    "      it is fine if we are working with any linear problems at that time the activation function *y=x* will be better option but if we are working with non linear problems the activation function *y=x* can't fit to the data well enough , so to overcome this problem we need to use the activation function like *Sigmoid* and *ReLU*.\n",
    "\n",
    "\n"
   ]
  },
  {
   "cell_type": "code",
   "execution_count": 12,
   "metadata": {},
   "outputs": [
    {
     "data": {
      "text/plain": [
       "[0.2, 0, 3.3, 0, 1.1, 2.2, 0]"
      ]
     },
     "execution_count": 12,
     "metadata": {},
     "output_type": "execute_result"
    }
   ],
   "source": [
    "X=[[1,2,3,2.5],\n",
    "                [2.0,5.0,-1.0,2.0],\n",
    "                [-1.5,2.7,3.3,-0.8]]\n",
    "\n",
    "inputs=[0.2,-1,3.3,-2.7,1.1,2.2,-100]\n",
    "output=[]\n",
    "\n",
    "# This is a simple example of How to ReLU is implemented\n",
    "\n",
    "for i in inputs:\n",
    "    output.append(max(0,i))\n",
    "output"
   ]
  },
  {
   "cell_type": "code",
   "execution_count": 13,
   "metadata": {},
   "outputs": [
    {
     "data": {
      "text/plain": [
       "array([[-0.01016362,  0.05501393,  0.02209668,  0.19362431,  0.08581252],\n",
       "       [ 0.00670105,  0.09099264,  0.05448575,  0.31238972,  0.03832855],\n",
       "       [-0.00271839,  0.03258391,  0.01560628,  0.11357657,  0.03627784]])"
      ]
     },
     "execution_count": 13,
     "metadata": {},
     "output_type": "execute_result"
    }
   ],
   "source": [
    "np.random.seed(0)\n",
    "X=[[1,2,3,2.5],\n",
    "                [2.0,5.0,-1.0,2.0],\n",
    "                [-1.5,2.7,3.3,-0.8]]\n",
    "\n",
    "class LayerDense:\n",
    "    def __init__(self,n_inputs,n_nuerons ):\n",
    "        self.weights=0.1*np.random.randn(n_inputs,n_nuerons)\n",
    "        self.biases=np.zeros((1,n_nuerons))\n",
    "    def forward(self,inputs):\n",
    "        self.output=np.dot(inputs,self.weights)+self.biases\n",
    "\n",
    "class ActivationReLU:\n",
    "    def forward(self,inputs):\n",
    "        self.output=np.maximum(0,inputs)\n",
    "\n",
    "layer1=LayerDense(4,2)\n",
    "layer1.forward(X)\n",
    "layer2=LayerDense(2,5)\n",
    "layer2.forward(layer1.output)\n",
    "layer2.output\n"
   ]
  },
  {
   "cell_type": "code",
   "execution_count": 14,
   "metadata": {},
   "outputs": [],
   "source": [
    "# write a code for dataset creation os spiral   dataset\n",
    "\n",
    "\n",
    "def create_dataset(points,classes):\n",
    "    X=np.zeros((points*classes,2))\n",
    "    y=np.zeros(points*classes,dtype=\"uint8\")\n",
    "\n",
    "    for class_number in range(classes):\n",
    "        ix=range(points*class_number,points*(class_number+1))\n",
    "        r=np.linspace(0.0,1,points)\n",
    "        t=np.linspace(class_number*4,(class_number+1)*4,points)+np.random.randn(points)*0.2\n",
    "        X[ix]=np.c_[r*np.sin(t*2.5),r*np.cos(t*2.5)]\n",
    "    return X,y\n",
    "        "
   ]
  },
  {
   "cell_type": "code",
   "execution_count": 15,
   "metadata": {},
   "outputs": [
    {
     "data": {
      "image/png": "[encoded data removed]",
      "text/plain": [
       "<Figure size 640x480 with 1 Axes>"
      ]
     },
     "metadata": {},
     "output_type": "display_data"
    }
   ],
   "source": [
    "X,y=create_dataset(100,3)\n",
    "\n",
    "#  plotting the data with matplotlib\n",
    "\n",
    "# plt.scatter(X[:,0],X[:,1])\n",
    "plt.scatter(X[:,0],X[:,1],c=y,cmap=\"brg\")\n",
    "plt.show()"
   ]
  },
  {
   "attachments": {},
   "cell_type": "markdown",
   "metadata": {},
   "source": [
    "# working with the dataset created above"
   ]
  },
  {
   "cell_type": "code",
   "execution_count": 16,
   "metadata": {},
   "outputs": [
    {
     "name": "stdout",
     "output_type": "stream",
     "text": [
      "printing output before activation................................................................\n",
      "[[1.         1.         1.         1.         1.        ]\n",
      " [0.99916743 0.99892726 0.99993398 1.00011216 1.00207062]\n",
      " [0.99925241 0.99907724 1.00097791 1.00129256 1.00168332]\n",
      " ...\n",
      " [1.00603593 1.01051087 1.07050592 1.0796565  0.97310856]\n",
      " [1.00320724 1.00686231 1.07018233 1.07992345 0.9801604 ]\n",
      " [1.00514428 1.00940744 1.07159892 1.08111384 0.97512868]]\n",
      "printing output after activation................................\n",
      "[[1.         1.         1.         1.         1.        ]\n",
      " [0.99916743 0.99892726 0.99993398 1.00011216 1.00207062]\n",
      " [0.99925241 0.99907724 1.00097791 1.00129256 1.00168332]\n",
      " ...\n",
      " [1.00603593 1.01051087 1.07050592 1.0796565  0.97310856]\n",
      " [1.00320724 1.00686231 1.07018233 1.07992345 0.9801604 ]\n",
      " [1.00514428 1.00940744 1.07159892 1.08111384 0.97512868]]\n"
     ]
    }
   ],
   "source": [
    "class LayerDense:\n",
    "    def __init__(self,n_inputs,n_nuerons ):\n",
    "        self.weights=0.1*np.random.randn(n_inputs,n_nuerons)\n",
    "        self.biases=np.ones((1,n_nuerons))\n",
    "    def forward(self,inputs):\n",
    "        self.output=np.dot(inputs,self.weights)+self.biases\n",
    "\n",
    "class ActivationReLU:\n",
    "    def forward(self,inputs):\n",
    "        self.output=np.maximum(0,inputs)\n",
    "\n",
    "layer1=LayerDense(2,5)\n",
    "activation1=ActivationReLU()\n",
    "layer1.forward(X)\n",
    "print(\"printing output before activation................................................................\")\n",
    "print(layer1.output)\n",
    "\n",
    "activation1.forward(layer1.output)\n",
    "print(\"printing output after activation................................\")\n",
    "print(activation1.output)"
   ]
  },
  {
   "attachments": {},
   "cell_type": "markdown",
   "metadata": {},
   "source": [
    "# Softmax activation function\n",
    "\n",
    "        input --> Exponentiate --> Normalize --> Output\n",
    "                \\                           /\n",
    "                 \\                         /\n",
    "                  \\                       /\n",
    "                   -----------------------\n",
    "                              ↓\n",
    "                input --> SoftMax --> Output\n",
    "\n",
    "                        e^z(i,j)\n",
    "                S(i,j)=----------\n",
    "                        Σ e^z(i,j)\n",
    "\n"
   ]
  },
  {
   "cell_type": "code",
   "execution_count": 17,
   "metadata": {},
   "outputs": [
    {
     "name": "stdout",
     "output_type": "stream",
     "text": [
      "[121.51041751873483, 3.353484652549023, 10.859062664920513, 1.0]\n",
      "[0.8887345126278212, 0.024527588738048032, 0.07942383840146965, 0.007314060232661068]\n",
      "1.0\n"
     ]
    }
   ],
   "source": [
    "import math\n",
    "\n",
    "layer_outputs=[4.8,1.21,2.385,0]\n",
    "E=math.e\n",
    "\n",
    "exp_values=[]\n",
    "\n",
    "for output in layer_outputs:\n",
    "    exp_values.append(E**output)\n",
    "print(exp_values)\n",
    "\n",
    "# Normalizing the values\n",
    "\n",
    "norm_base=sum(exp_values)\n",
    "norm_values=[]\n",
    "\n",
    "for value in exp_values:\n",
    "    norm_values.append(value/norm_base)\n",
    "print(norm_values)\n",
    "print(sum(norm_values))"
   ]
  },
  {
   "cell_type": "code",
   "execution_count": 18,
   "metadata": {},
   "outputs": [
    {
     "name": "stdout",
     "output_type": "stream",
     "text": [
      "[121.51041752   3.35348465  10.85906266   1.        ]\n",
      "[0.88873451 0.02452759 0.07942384 0.00731406]\n",
      "0.9999999999999999\n"
     ]
    }
   ],
   "source": [
    "layer_outputs=[4.8,1.21,2.385,0]\n",
    "\n",
    "exp_values=np.exp(layer_outputs)\n",
    "\n",
    "norm_values=exp_values/np.sum(exp_values)\n",
    "\n",
    "print(exp_values)\n",
    "print(norm_values)\n",
    "print(norm_values.sum())\n"
   ]
  },
  {
   "cell_type": "code",
   "execution_count": 27,
   "metadata": {},
   "outputs": [
    {
     "name": "stdout",
     "output_type": "stream",
     "text": [
      "[[ 135.72296484]\n",
      " [7333.55916089]\n",
      " [   7.98280655]]\n"
     ]
    }
   ],
   "source": [
    "layer_outputs = [[4.8,1.21,2.385],[8.9,-1.01,0.2],[1.41,1.051,0.026]]\n",
    "\n",
    "exp_values = np.exp(layer_outputs)\n",
    "\n",
    "print(np.sum(exp_values,axis=1,keepdims=True))\n"
   ]
  },
  {
   "cell_type": "code",
   "execution_count": 24,
   "metadata": {},
   "outputs": [
    {
     "data": {
      "text/plain": [
       "array([[1.21510418e+02, 3.35348465e+00, 1.08590627e+01],\n",
       "       [7.33197354e+03, 3.64218980e-01, 1.22140276e+00],\n",
       "       [4.09595540e+00, 2.86051020e+00, 1.02634095e+00]])"
      ]
     },
     "execution_count": 24,
     "metadata": {},
     "output_type": "execute_result"
    }
   ],
   "source": [
    "exp_values"
   ]
  },
  {
   "attachments": {},
   "cell_type": "markdown",
   "metadata": {},
   "source": [
    "# The problem of overflow\n",
    "            to solve this problem we subtract all the values with the maximum values which\n",
    "            cause everything being negative and then maximum is converted to zero .\n",
    "            this cause all the values ranging between 0 to 1 after being exponentiated."
   ]
  },
  {
   "cell_type": "code",
   "execution_count": 28,
   "metadata": {},
   "outputs": [
    {
     "name": "stdout",
     "output_type": "stream",
     "text": [
      "[[1.         1.         1.        ]\n",
      " [0.99986955 1.000395   0.9993095 ]\n",
      " [0.99973919 1.00078847 0.99861674]\n",
      " [0.9997079  1.00135426 0.9995238 ]\n",
      " [0.99950493 1.00132082 0.99697388]\n",
      " [0.99943353 1.0023461  0.99843838]\n",
      " [0.99969162 1.00212302 1.00107591]\n",
      " [0.99922223 1.00174414 0.99449223]\n",
      " [0.99908469 1.00375859 0.99740315]\n",
      " [0.99908625 1.00177923 0.99291481]\n",
      " [0.99871725 1.00368772 0.99276346]\n",
      " [0.99989064 0.99811218 0.99436835]\n",
      " [0.99957879 0.99899645 0.99258111]\n",
      " [0.99862939 1.00283426 0.98974915]\n",
      " [0.99850631 1.00314663 0.98896033]\n",
      " [0.99823445 1.00432894 0.98833918]\n",
      " [0.99877593 1.0012904  0.9880196 ]\n",
      " [0.99904862 0.99992661 0.98823752]\n",
      " [0.99912038 0.99942401 0.98796759]\n",
      " [0.99995251 0.99627268 0.99093351]\n",
      " [1.00075945 0.99363848 0.99477008]\n",
      " [1.00076186 0.99341888 0.99429937]\n",
      " [0.99949227 0.99721364 0.98746684]\n",
      " [0.99878815 0.99960466 0.98432987]\n",
      " [1.00279838 0.98870477 1.0083856 ]\n",
      " [1.00053671 0.99323019 0.99112549]\n",
      " [1.00095665 0.99181477 0.99302061]\n",
      " [1.00154489 0.9900501  0.99617159]\n",
      " [0.99959648 0.99561651 0.98510004]\n",
      " [1.00237955 0.98769401 1.00097923]\n",
      " [1.00275759 0.98672117 1.00337148]\n",
      " [1.00403358 0.98606721 1.01743396]\n",
      " [1.00420831 0.986386   1.0202895 ]\n",
      " [1.00420268 0.98476038 1.01651909]\n",
      " [1.00425427 0.98841367 1.02546694]\n",
      " [1.00457091 0.98609573 1.02404791]\n",
      " [1.00473041 0.98504227 1.02359301]\n",
      " [1.00473726 0.98644419 1.02686879]\n",
      " [1.00493699 0.98527695 1.02664515]\n",
      " [1.00506777 0.98487816 1.02733102]\n",
      " [1.00499477 0.98645079 1.03002235]\n",
      " [1.00539172 0.98252293 1.02591605]\n",
      " [1.00386685 0.99365187 1.03267328]\n",
      " [1.00546564 0.98462184 1.03159646]\n",
      " [1.00167066 1.00321578 1.02768465]\n",
      " [1.00397917 0.99396737 1.03476063]\n",
      " [1.00283069 0.99917265 1.03261621]\n",
      " [1.00100764 1.00622184 1.02644908]\n",
      " [0.99992427 1.01004883 1.02195963]\n",
      " [1.00540138 0.98803392 1.03858316]\n",
      " [1.00137777 1.00554235 1.02941285]\n",
      " [0.99718293 1.01854251 1.00788973]\n",
      " [1.00468479 0.99262506 1.04030411]\n",
      " [0.99735629 1.01854628 1.01001122]\n",
      " [1.00524714 0.99050582 1.04233211]\n",
      " [1.00082166 1.00851172 1.0293968 ]\n",
      " [0.99635512 1.02169866 1.00498752]\n",
      " [1.00170112 1.00585205 1.03405916]\n",
      " [0.9984272  1.01666725 1.01878463]\n",
      " [0.99949188 1.0136656  1.02492558]\n",
      " [0.99220478 1.02324654 0.95792819]\n",
      " [0.99290373 1.0287044  0.97887528]\n",
      " [0.99198193 1.02816719 0.96641709]\n",
      " [0.99263822 1.02965371 0.97780103]\n",
      " [0.99238855 1.03013525 0.97585457]\n",
      " [0.9951784  1.02651875 1.00162179]\n",
      " [0.99150765 1.0301832  0.96522739]\n",
      " [0.99169904 1.0313693  0.97026093]\n",
      " [0.99246481 1.01682793 0.94648135]\n",
      " [0.99375187 1.00993511 0.9464719 ]\n",
      " [0.99562094 1.00154908 0.95015579]\n",
      " [0.99397227 1.00836898 0.94559188]\n",
      " [0.99081267 1.02607879 0.94741071]\n",
      " [0.99043582 1.02956083 0.95074677]\n",
      " [0.99584021 0.9997537  0.94873996]\n",
      " [0.99487961 1.00342401 0.94539006]\n",
      " [0.99002528 1.03119263 0.94945902]\n",
      " [0.99658273 0.99621768 0.94973764]\n",
      " [0.99985958 0.98452102 0.96304063]\n",
      " [0.99702437 0.99413774 0.95038405]\n",
      " [0.99677591 0.99484521 0.94896678]\n",
      " [0.99469089 1.00278246 0.94162907]\n",
      " [0.99272709 1.01109479 0.93662279]\n",
      " [1.00508164 0.96860102 0.99043466]\n",
      " [1.00033747 0.98176017 0.96257837]\n",
      " [1.00188446 0.97680577 0.97015103]\n",
      " [1.01074542 0.95985377 1.03954559]\n",
      " [1.00844609 0.96076398 1.01359418]\n",
      " [1.00809424 0.9610397  1.0099337 ]\n",
      " [1.00807363 0.96079133 1.00911693]\n",
      " [1.01183379 0.96146309 1.05647517]\n",
      " [1.01177169 0.96537381 1.06462361]\n",
      " [1.01202213 0.95909996 1.05338944]\n",
      " [1.01202081 0.957717   1.05022428]\n",
      " [1.00182183 0.97513051 0.96557284]\n",
      " [1.01221204 0.95650677 1.04979902]\n",
      " [1.01226741 0.95578991 1.0488415 ]\n",
      " [1.01275248 0.95835344 1.06059097]\n",
      " [1.01131055 0.97310912 1.07661776]\n",
      " [1.00422415 0.96724348 0.97689233]\n",
      " [1.         1.         1.        ]\n",
      " [1.00012283 0.99967675 1.00076094]\n",
      " [1.00026176 0.99919556 1.00135847]\n",
      " [1.00037961 0.9986084  1.00145776]\n",
      " [1.00029825 0.99971093 1.00297676]\n",
      " [1.00047072 0.99919464 1.00390312]\n",
      " [1.00076455 0.99783676 1.00439221]\n",
      " [1.00050207 0.99957884 1.0051602 ]\n",
      " [1.00023212 1.00084511 1.0047535 ]\n",
      " [1.00059794 0.99965767 1.00650808]\n",
      " [1.00004069 1.0019105  1.00484645]\n",
      " [1.00041518 1.00081313 1.00691176]\n",
      " [1.00065332 1.00012376 1.00824444]\n",
      " [1.0011117  0.99843114 1.00997677]\n",
      " [1.00012906 1.00243647 1.00712117]\n",
      " [0.99966438 1.00410219 1.00525072]\n",
      " [0.99878984 1.00657778 1.00022927]\n",
      " [0.99951584 1.00495219 1.00537594]\n",
      " [0.99865253 1.00737011 1.00035994]\n",
      " [1.00001111 1.00384537 1.00889181]\n",
      " [0.99950957 1.00559601 1.00676557]\n",
      " [0.99838481 1.00869029 1.00010322]\n",
      " [0.99927417 1.00669189 1.00639205]\n",
      " [0.997092   1.01067414 0.98886408]\n",
      " [0.99704197 1.01125284 0.9895721 ]\n",
      " [0.99690853 1.01171146 0.9889901 ]\n",
      " [0.99666045 1.01191392 0.98642754]\n",
      " [0.99734379 1.00490877 0.97880425]\n",
      " [0.99663512 1.01317845 0.98899834]\n",
      " [0.99855975 1.01013161 1.00551754]\n",
      " [0.996082   1.01191916 0.97938937]\n",
      " [0.99594109 1.0125005  0.97899572]\n",
      " [0.99579475 1.01381826 0.9802129 ]\n",
      " [0.99572136 1.01493156 0.9818536 ]\n",
      " [0.99562007 1.01273208 0.97561056]\n",
      " [0.99623753 1.00801921 0.97240424]\n",
      " [0.99559083 1.01154543 0.97255193]\n",
      " [1.00171723 0.98738829 0.99221078]\n",
      " [0.99529872 1.01253385 0.97124259]\n",
      " [0.99557653 1.01023788 0.96940028]\n",
      " [0.9947749  1.01780228 0.97685524]\n",
      " [0.99832554 0.99744062 0.9737638 ]\n",
      " [0.99461217 1.01549143 0.96960975]\n",
      " [0.99724322 1.00122401 0.96918788]\n",
      " [0.99842137 0.99644551 0.97266572]\n",
      " [0.99773727 0.99880566 0.96970236]\n",
      " [1.00486018 0.97872573 1.01079097]\n",
      " [1.00379824 0.9801724  1.00114241]\n",
      " [1.00504184 0.97783479 1.01097621]\n",
      " [0.99951948 0.99156855 0.97494378]\n",
      " [1.0056436  0.97655183 1.01538888]\n",
      " [1.00488825 0.97709705 1.00742431]\n",
      " [1.00594994 0.97556893 1.01688438]\n",
      " [1.00668805 0.97537537 1.02543964]\n",
      " [1.00287787 0.98063139 0.99097008]\n",
      " [1.00498556 0.9757765  1.00560316]\n",
      " [1.0073487  0.97554011 1.03386668]\n",
      " [0.99885639 0.99218189 0.96825886]\n",
      " [1.00682962 0.98324362 1.04508215]\n",
      " [1.00773284 0.97604615 1.03970094]\n",
      " [1.00783771 0.9732972  1.03471931]\n",
      " [1.00796629 0.97576937 1.04191593]\n",
      " [1.0074907  0.97083218 1.02487679]\n",
      " [1.00828019 0.97373755 1.04111489]\n",
      " [1.00548458 0.99222347 1.0491374 ]\n",
      " [1.00417194 0.99813044 1.04658998]\n",
      " [0.99751581 1.02093227 1.01738867]\n",
      " [1.00738479 0.98364255 1.05275702]\n",
      " [1.00828585 0.97849532 1.05201809]\n",
      " [1.00769375 0.98265325 1.05426974]\n",
      " [1.0084503  0.97841228 1.05383325]\n",
      " [1.00520831 0.9952355  1.0526291 ]\n",
      " [1.00243812 1.00634647 1.04416746]\n",
      " [1.00345283 1.00277535 1.04840271]\n",
      " [0.99713886 1.02367844 1.01904792]\n",
      " [1.00259155 1.00642196 1.0462094 ]\n",
      " [1.00219555 1.00806284 1.04511946]\n",
      " [1.00238122 1.00760629 1.04634272]\n",
      " [1.00630586 0.99222446 1.05914936]\n",
      " [1.00523966 0.99703189 1.05710181]\n",
      " [1.00243219 1.00805305 1.04798134]\n",
      " [0.99046802 1.03813729 0.97066908]\n",
      " [0.99089114 1.03835188 0.97631463]\n",
      " [0.9893572  1.0381     0.95704559]\n",
      " [0.99896061 1.02043611 1.03386802]\n",
      " [1.00137115 1.01280893 1.04587929]\n",
      " [0.99331553 1.03573533 0.99990475]\n",
      " [0.98955064 1.04094885 0.96589051]\n",
      " [0.98856944 1.03968735 0.95105901]\n",
      " [0.98857392 1.0329186  0.93570025]\n",
      " [0.98818687 1.0392534  0.94540814]\n",
      " [0.99139122 1.01485913 0.92891321]\n",
      " [0.98797901 1.04091193 0.94665151]\n",
      " [0.98854445 1.04361113 0.95968946]\n",
      " [0.99009158 1.04344705 0.97817214]\n",
      " [0.9876354  1.04267025 0.94646747]\n",
      " [0.98906075 1.02550006 0.92474054]\n",
      " [0.98726503 1.03992863 0.93571042]\n",
      " [0.99383526 1.00230726 0.93011861]\n",
      " [0.99792644 0.98672419 0.94449673]\n",
      " [1.         1.         1.        ]\n",
      " [0.999957   0.99994566 0.99935221]\n",
      " [0.99974293 1.00091573 0.99895205]\n",
      " [0.99986016 0.9998781  0.99801801]\n",
      " [1.0000788  0.9989379  0.99854188]\n",
      " [0.99978778 0.99971792 0.99677109]\n",
      " [0.99938195 1.00123186 0.99527239]\n",
      " [0.99959813 1.00000997 0.9951247 ]\n",
      " [0.99980249 0.99903202 0.99538854]\n",
      " [0.99994304 0.99834739 0.99554259]\n",
      " [1.00005593 0.99777865 0.99562338]\n",
      " [1.0002733  0.99691177 0.99629857]\n",
      " [1.00069035 0.9955686  0.99832295]\n",
      " [0.99973224 0.99824099 0.99273104]\n",
      " [1.00076254 0.99493697 0.99776456]\n",
      " [1.00194665 0.99322396 1.00829559]\n",
      " [1.00111367 0.99363417 0.99907739]\n",
      " [1.00131561 0.99294805 0.99997621]\n",
      " [1.00235971 0.99209504 1.01075927]\n",
      " [0.99943884 0.99802821 0.98867062]\n",
      " [1.00259053 0.99235014 1.01415331]\n",
      " [1.00222889 0.99027654 1.00502383]\n",
      " [1.00286782 0.99015366 1.01253119]\n",
      " [1.00301828 0.98995537 1.01391353]\n",
      " [1.00283019 0.99303995 1.01864516]\n",
      " [1.0032844  0.98917242 1.01537405]\n",
      " [1.00338109 0.98830065 1.01456733]\n",
      " [1.00209626 0.99768913 1.02028692]\n",
      " [1.00258994 0.98757893 1.00328138]\n",
      " [1.00334228 0.99207111 1.02268022]\n",
      " [1.00393256 0.98682029 1.0179176 ]\n",
      " [1.00387801 0.98944308 1.02322522]\n",
      " [0.99903956 1.00946272 1.00984217]\n",
      " [1.00278475 0.99618665 1.02525678]\n",
      " [1.00204821 0.99956626 1.02397579]\n",
      " [1.00450402 0.98694403 1.02516429]\n",
      " [1.00317786 0.99519926 1.02779957]\n",
      " [1.00083305 1.00475916 1.02099047]\n",
      " [0.99995971 1.00789219 1.01748062]\n",
      " [0.99878015 1.0116734  1.01171462]\n",
      " [0.99980532 1.00879347 1.01765123]\n",
      " [0.9979141  1.01445238 1.00748736]\n",
      " [0.99753987 1.01561804 1.00558062]\n",
      " [1.003095   0.99736698 1.03172581]\n",
      " [0.99745576 1.01628048 1.00606403]\n",
      " [0.9952855  1.02076556 0.9898262 ]\n",
      " [0.9951372  1.02127722 0.9891839 ]\n",
      " [0.996728   1.01870097 1.00270597]\n",
      " [0.99732282 1.01751639 1.00725812]\n",
      " [0.99759398 1.01704752 1.00949528]\n",
      " [0.99454898 1.0232975  0.98661518]\n",
      " [0.99335811 1.01997771 0.96454123]\n",
      " [0.99818303 1.01610213 1.01452178]\n",
      " [0.99407575 1.02481594 0.98430514]\n",
      " [0.99454035 1.02466727 0.9896291 ]\n",
      " [0.99325513 1.01770118 0.95810212]\n",
      " [0.99278081 1.02555172 0.97019797]\n",
      " [0.99251568 1.02479911 0.9652528 ]\n",
      " [0.99248436 1.02222233 0.95900341]\n",
      " [0.99361273 1.01376257 0.95349181]\n",
      " [0.99242962 1.02096547 0.95547418]\n",
      " [0.99526828 1.02532711 1.00000369]\n",
      " [0.99529556 1.00483223 0.9536663 ]\n",
      " [0.995556   1.00347496 0.9537499 ]\n",
      " [0.99399502 1.01021152 0.95006484]\n",
      " [0.99228476 1.01917228 0.9496253 ]\n",
      " [0.99737915 0.99560205 0.95804246]\n",
      " [0.99831862 0.99198922 0.96126571]\n",
      " [0.99559051 1.00214039 0.95113143]\n",
      " [0.9974229  0.99479914 0.95674742]\n",
      " [0.99523805 1.00312458 0.9490768 ]\n",
      " [0.99937607 0.98754167 0.96402616]\n",
      " [0.99425616 1.00683696 0.9455633 ]\n",
      " [1.00402917 0.97346655 0.98868674]\n",
      " [0.99857716 0.98963617 0.95905857]\n",
      " [1.00511771 0.97039313 0.9949551 ]\n",
      " [0.99825481 0.99034357 0.95674071]\n",
      " [1.00331448 0.97444462 0.98220328]\n",
      " [1.00640414 0.96689324 1.00266426]\n",
      " [1.00000161 0.98385706 0.96325975]\n",
      " [1.00879052 0.96266241 1.02211508]\n",
      " [1.00795323 0.96333505 1.01344193]\n",
      " [1.0027969  0.97479972 0.97670373]\n",
      " [1.00600861 0.96646118 0.99685977]\n",
      " [1.01102197 0.9655971  1.05599459]\n",
      " [1.0106335  0.97105153 1.06368049]\n",
      " [1.01125444 0.96195346 1.05053082]\n",
      " [1.01102649 0.96917151 1.06418915]\n",
      " [1.01112003 0.96910681 1.06518177]\n",
      " [1.01061638 0.9734065  1.06883439]\n",
      " [1.00625689 0.9954211  1.0658317 ]\n",
      " [1.01149597 0.95774671 1.04389511]\n",
      " [1.00741554 0.99092703 1.06971959]\n",
      " [1.01083237 0.97387512 1.07253396]\n",
      " [1.00974524 0.98037598 1.07408756]\n",
      " [1.00935358 0.98269032 1.07458413]\n",
      " [1.00889236 0.98523379 1.07475464]\n",
      " [1.01140336 0.97209417 1.07543766]\n",
      " [1.0038115  1.00682754 1.0620016 ]\n",
      " [0.99325498 1.03905741 1.00673163]]\n",
      "[[0.28348383 0.37820727 0.3383089 ]\n",
      " [0.28349609 0.37818981 0.3383141 ]\n",
      " [0.28350843 0.3781723  0.33831926]\n",
      " [0.28347516 0.37818907 0.33833577]\n",
      " [0.28354405 0.37813307 0.33832288]\n",
      " [0.28348857 0.3781595  0.33835193]\n",
      " [0.2834214  0.37821889 0.33835971]\n",
      " [0.28360389 0.37807598 0.33832013]\n",
      " [0.28349396 0.37812865 0.33837738]\n",
      " [0.28364564 0.37804102 0.33831335]\n",
      " [0.28361948 0.37802683 0.33835369]\n",
      " [0.28366471 0.3780939  0.33824139]\n",
      " [0.28369864 0.37804949 0.33825187]\n",
      " [0.28371383 0.37796526 0.33832091]\n",
      " [0.28373004 0.3779461  0.33832386]\n",
      " [0.28372797 0.3779257  0.33834633]\n",
      " [0.28378466 0.37793592 0.33827941]\n",
      " [0.28380042 0.37794848 0.33825111]\n",
      " [0.28381562 0.37794538 0.338239  ]\n",
      " [0.28378596 0.37802865 0.33818539]\n",
      " [0.28372476 0.37812819 0.33814706]\n",
      " [0.28374086 0.37811906 0.33814008]\n",
      " [0.28386406 0.3779469  0.33818904]\n",
      " [0.28391035 0.37786418 0.33822547]\n",
      " [0.28343773 0.37845638 0.3381059 ]\n",
      " [0.28382899 0.37805017 0.33812085]\n",
      " [0.28380056 0.37809998 0.33809946]\n",
      " [0.28374397 0.37817947 0.33807656]\n",
      " [0.28395286 0.3779038  0.33814334]\n",
      " [0.28365231 0.37829885 0.33804884]\n",
      " [0.28360355 0.37835712 0.33803933]\n",
      " [0.28323691 0.37867086 0.33809223]\n",
      " [0.28315536 0.37873199 0.33811265]\n",
      " [0.28328209 0.37865814 0.33805978]\n",
      " [0.28298462 0.37883456 0.33818082]\n",
      " [0.28305925 0.3788165  0.33812425]\n",
      " [0.28308808 0.37881248 0.33809944]\n",
      " [0.28297819 0.37887669 0.33814512]\n",
      " [0.28300262 0.37887842 0.33811896]\n",
      " [0.28299054 0.37889582 0.33811364]\n",
      " [0.28289362 0.37894617 0.33816021]\n",
      " [0.28306566 0.37887805 0.33805629]\n",
      " [0.28270893 0.37896346 0.33832761]\n",
      " [0.28288036 0.37899131 0.33812834]\n",
      " [0.28269142 0.37879887 0.33850971]\n",
      " [0.28264808 0.37900765 0.33834427]\n",
      " [0.28262328 0.37893064 0.33844608]\n",
      " [0.28267702 0.37875446 0.33856852]\n",
      " [0.28273672 0.37863369 0.33862958]\n",
      " [0.28263943 0.37912581 0.33823475]\n",
      " [0.28260843 0.37882363 0.33856794]\n",
      " [0.28297915 0.37827531 0.33874554]\n",
      " [0.28252091 0.37913748 0.33834161]\n",
      " [0.28292228 0.378322   0.33875572]\n",
      " [0.28250009 0.3791943  0.33830561]\n",
      " [0.28256197 0.37880628 0.33863175]\n",
      " [0.28300695 0.37819338 0.33879967]\n",
      " [0.28247923 0.37892419 0.33859659]\n",
      " [0.28271713 0.37852592 0.33875695]\n",
      " [0.28260022 0.37867831 0.33872147]\n",
      " [0.2842441  0.37714834 0.33860756]\n",
      " [0.28359568 0.37757855 0.33882578]\n",
      " [0.28393827 0.37730733 0.3387544 ]\n",
      " [0.28360944 0.37754949 0.33884107]\n",
      " [0.28365399 0.3775039  0.33884211]\n",
      " [0.28302085 0.37809174 0.33888741]\n",
      " [0.28393822 0.37726967 0.33879211]\n",
      " [0.28378442 0.37737374 0.33884185]\n",
      " [0.28465337 0.37693257 0.33841406]\n",
      " [0.28476308 0.37697134 0.33826558]\n",
      " [0.28479723 0.37709992 0.33810285]\n",
      " [0.2848116  0.3769608  0.3382276 ]\n",
      " [0.28448154 0.37690066 0.3386178 ]\n",
      " [0.28433669 0.37695438 0.33870892]\n",
      " [0.28486379 0.37707885 0.33805736]\n",
      " [0.28489555 0.37698428 0.33812016]\n",
      " [0.28434537 0.37691677 0.33873786]\n",
      " [0.28489312 0.37712081 0.33798607]\n",
      " [0.28472119 0.37748021 0.3377986 ]\n",
      " [0.28490877 0.3771468  0.33794443]\n",
      " [0.28493564 0.37711156 0.3379528 ]\n",
      " [0.28500686 0.376905   0.33808814]\n",
      " [0.2850094  0.37674774 0.33824286]\n",
      " [0.28423761 0.37817454 0.33758785]\n",
      " [0.28477742 0.3774856  0.33773698]\n",
      " [0.28465248 0.37768063 0.33766689]\n",
      " [0.28305855 0.37930783 0.33763362]\n",
      " [0.28373999 0.37873001 0.33753   ]\n",
      " [0.28383385 0.37864766 0.33751849]\n",
      " [0.2838597  0.37863104 0.33750925]\n",
      " [0.28257976 0.37967215 0.33774809]\n",
      " [0.28230004 0.37982952 0.33787043]\n",
      " [0.28269964 0.37961757 0.33768279]\n",
      " [0.28280622 0.37955562 0.33763816]\n",
      " [0.28480212 0.37758908 0.33760881]\n",
      " [0.28283671 0.37955314 0.33761015]\n",
      " [0.28287367 0.3795361  0.33759023]\n",
      " [0.28251863 0.37978071 0.33770066]\n",
      " [0.28185746 0.38004967 0.33809287]\n",
      " [0.28462295 0.37788337 0.33749368]\n",
      " [0.28348383 0.37820727 0.3383089 ]\n",
      " [0.28346854 0.37822588 0.33830558]\n",
      " [0.28346014 0.37824179 0.33829807]\n",
      " [0.28346677 0.37824732 0.33828592]\n",
      " [0.28340861 0.37827451 0.33831688]\n",
      " [0.28339195 0.37829786 0.33831019]\n",
      " [0.28340032 0.37831638 0.33828331]\n",
      " [0.28335218 0.37832338 0.33832445]\n",
      " [0.28334305 0.3783072  0.33834975]\n",
      " [0.28331481 0.37835263 0.33833257]\n",
      " [0.2833237  0.37830318 0.33837312]\n",
      " [0.28328571 0.37835494 0.33835935]\n",
      " [0.2832609  0.37838823 0.33835086]\n",
      " [0.28324125 0.37843605 0.33832269]\n",
      " [0.28325443 0.3783503  0.33839527]\n",
      " [0.2832782  0.3782996  0.3384222 ]\n",
      " [0.2833736  0.37817486 0.33845153]\n",
      " [0.2832614  0.37829751 0.33844109]\n",
      " [0.28335756 0.37817323 0.33846921]\n",
      " [0.2831847  0.37838128 0.33843402]\n",
      " [0.28321398 0.37832445 0.33846156]\n",
      " [0.28334356 0.37816005 0.3384964 ]\n",
      " [0.28320666 0.37830998 0.33848336]\n",
      " [0.28361342 0.37790117 0.33848541]\n",
      " [0.28358528 0.37791347 0.33850125]\n",
      " [0.28359362 0.37789804 0.33850834]\n",
      " [0.28365912 0.37784044 0.33850043]\n",
      " [0.28397458 0.3777123  0.33831312]\n",
      " [0.28357017 0.37788987 0.33853995]\n",
      " [0.28317569 0.37827109 0.33855322]\n",
      " [0.2838478  0.37768537 0.33846683]\n",
      " [0.28384915 0.3776734  0.33847745]\n",
      " [0.28379562 0.37769272 0.33851166]\n",
      " [0.28373399 0.37772253 0.33854349]\n",
      " [0.28393629 0.37759751 0.3384662 ]\n",
      " [0.28409703 0.37755362 0.33834935]\n",
      " [0.28403717 0.37753686 0.33842597]\n",
      " [0.28389237 0.37810726 0.33800037]\n",
      " [0.28405664 0.37750241 0.33844095]\n",
      " [0.28414248 0.37747485 0.33838267]\n",
      " [0.28382256 0.37759611 0.33858133]\n",
      " [0.28422823 0.37764357 0.3381282 ]\n",
      " [0.28405357 0.37744965 0.33849678]\n",
      " [0.28429111 0.37752127 0.33818762]\n",
      " [0.28427349 0.377625   0.33810151]\n",
      " [0.28431564 0.37754631 0.33813805]\n",
      " [0.28353107 0.37856617 0.33790276]\n",
      " [0.28376697 0.37834517 0.33788786]\n",
      " [0.2835402  0.37857532 0.33788449]\n",
      " [0.28428964 0.37770285 0.33800752]\n",
      " [0.28344217 0.37867993 0.3378779 ]\n",
      " [0.28364713 0.37850117 0.3378517 ]\n",
      " [0.28341762 0.3787185  0.33786389]\n",
      " [0.28319136 0.37890828 0.33790036]\n",
      " [0.28403268 0.37811822 0.3378491 ]\n",
      " [0.28371687 0.37846851 0.33781462]\n",
      " [0.28296298 0.37909317 0.33794385]\n",
      " [0.28445945 0.37755199 0.33798857]\n",
      " [0.2825411  0.37929645 0.33816245]\n",
      " [0.28279874 0.37921893 0.33798232]\n",
      " [0.28297556 0.37912476 0.33789967]\n",
      " [0.2827438  0.37926935 0.33798684]\n",
      " [0.28327824 0.37892173 0.33780003]\n",
      " [0.28279733 0.37926329 0.33793938]\n",
      " [0.28229094 0.37933442 0.33837464]\n",
      " [0.2822659  0.37924444 0.33848966]\n",
      " [0.2826871  0.37847077 0.33884212]\n",
      " [0.28232946 0.37946333 0.33820721]\n",
      " [0.28243041 0.3794765  0.33809309]\n",
      " [0.2823046  0.37950234 0.33819307]\n",
      " [0.28238315 0.37951699 0.33809985]\n",
      " [0.28215007 0.37939408 0.33845585]\n",
      " [0.28220108 0.37914397 0.33865495]\n",
      " [0.28214417 0.37925773 0.3385981 ]\n",
      " [0.28259932 0.37849157 0.33890911]\n",
      " [0.28214529 0.37918851 0.3386662 ]\n",
      " [0.28214855 0.37915509 0.33869636]\n",
      " [0.28212305 0.37918465 0.33869231]\n",
      " [0.28202322 0.379555   0.33842178]\n",
      " [0.28200218 0.3794823  0.33851552]\n",
      " [0.2820722  0.37921816 0.33870964]\n",
      " [0.28366621 0.37734419 0.3389896 ]\n",
      " [0.28351149 0.3774672  0.33902131]\n",
      " [0.28403217 0.37704456 0.33892327]\n",
      " [0.28225414 0.37883637 0.33890949]\n",
      " [0.28205338 0.37914457 0.33880205]\n",
      " [0.28292105 0.37800126 0.3390777 ]\n",
      " [0.28374977 0.37722301 0.33902722]\n",
      " [0.28416761 0.37690378 0.33892861]\n",
      " [0.28468746 0.37660405 0.33870849]\n",
      " [0.28432616 0.37678186 0.33889197]\n",
      " [0.28515688 0.37655661 0.33828651]\n",
      " [0.28426646 0.37679981 0.33893372]\n",
      " [0.28387384 0.3770714  0.33905476]\n",
      " [0.28338101 0.37747901 0.33913998]\n",
      " [0.28424349 0.37678578 0.33897073]\n",
      " [0.28509991 0.37640463 0.33849546]\n",
      " [0.28457583 0.37656457 0.3388596 ]\n",
      " [0.28532401 0.37665392 0.33802207]\n",
      " [0.28518484 0.37705876 0.3377564 ]\n",
      " [0.28348383 0.37820727 0.3383089 ]\n",
      " [0.28350205 0.3781933  0.33830464]\n",
      " [0.28349743 0.37817897 0.3383236 ]\n",
      " [0.28353889 0.37816429 0.33829682]\n",
      " [0.28353973 0.37818118 0.33827909]\n",
      " [0.28357486 0.37813772 0.33828742]\n",
      " [0.28359108 0.37809608 0.33831283]\n",
      " [0.28361438 0.37809978 0.33828584]\n",
      " [0.28362279 0.37811116 0.33826606]\n",
      " [0.2836295  0.37811844 0.33825206]\n",
      " [0.28363633 0.37812346 0.33824021]\n",
      " [0.28363195 0.37814327 0.33822478]\n",
      " [0.28359892 0.37819552 0.33820556]\n",
      " [0.28370658 0.37805709 0.33823633]\n",
      " [0.28362389 0.37818681 0.3381893 ]\n",
      " [0.28336866 0.37842867 0.33820267]\n",
      " [0.28360931 0.37822315 0.33816754]\n",
      " [0.28359606 0.37824687 0.33815707]\n",
      " [0.28332048 0.3784894  0.33819012]\n",
      " [0.28381886 0.37796881 0.33821233]\n",
      " [0.28322549 0.37856275 0.33821176]\n",
      " [0.28350299 0.37837333 0.33812369]\n",
      " [0.28330369 0.37853951 0.3381568 ]\n",
      " [0.28326978 0.37857111 0.33815911]\n",
      " [0.28309424 0.37865782 0.33824794]\n",
      " [0.28324302 0.37860776 0.33814922]\n",
      " [0.28327842 0.37859495 0.33812663]\n",
      " [0.28297679 0.37866747 0.33835574]\n",
      " [0.28359239 0.37835025 0.33805735]\n",
      " [0.28300147 0.37875227 0.33824626]\n",
      " [0.28321205 0.37867723 0.33811072]\n",
      " [0.2830284  0.37877927 0.33819233]\n",
      " [0.28307042 0.37837016 0.33855941]\n",
      " [0.28286745 0.37878555 0.338347  ]\n",
      " [0.28284835 0.37873803 0.33841362]\n",
      " [0.28301594 0.37883627 0.33814779]\n",
      " [0.28281496 0.37884723 0.33833781]\n",
      " [0.28284624 0.37864259 0.33851117]\n",
      " [0.2828907  0.37854738 0.33856192]\n",
      " [0.28298533 0.37839878 0.33861589]\n",
      " [0.28287189 0.37854598 0.33858213]\n",
      " [0.2830546  0.37828981 0.33865559]\n",
      " [0.28308723 0.37824117 0.3386716 ]\n",
      " [0.28267563 0.37892135 0.33840303]\n",
      " [0.28306381 0.37824803 0.33868816]\n",
      " [0.28342787 0.37786489 0.33870725]\n",
      " [0.28343698 0.37784783 0.33871519]\n",
      " [0.28311546 0.37816027 0.33872427]\n",
      " [0.28301229 0.37826727 0.33872045]\n",
      " [0.28295979 0.3783192  0.338721  ]\n",
      " [0.28347384 0.37777975 0.33874641]\n",
      " [0.28411845 0.37731254 0.33856901]\n",
      " [0.28284016 0.37843529 0.33872455]\n",
      " [0.28351171 0.37772024 0.33876805]\n",
      " [0.28337138 0.3778383  0.33879031]\n",
      " [0.28432741 0.37718362 0.33848897]\n",
      " [0.28387831 0.37740544 0.33871624]\n",
      " [0.28402291 0.37730083 0.33867626]\n",
      " [0.28423149 0.37717783 0.33859068]\n",
      " [0.28451371 0.37710437 0.33838192]\n",
      " [0.28434617 0.37710723 0.3385466 ]\n",
      " [0.28308303 0.37806293 0.33885404]\n",
      " [0.28465077 0.37715875 0.33819049]\n",
      " [0.28467006 0.37716826 0.33816167]\n",
      " [0.28466214 0.37704895 0.3382889 ]\n",
      " [0.2845317  0.37698856 0.33847974]\n",
      " [0.28467967 0.37730739 0.33801293]\n",
      " [0.28465039 0.37739888 0.33795073]\n",
      " [0.28476162 0.37711809 0.33812029]\n",
      " [0.28472722 0.37728338 0.3379894 ]\n",
      " [0.28480121 0.37706724 0.33813155]\n",
      " [0.28464678 0.37748488 0.33786834]\n",
      " [0.28483669 0.37696882 0.33819448]\n",
      " [0.28420747 0.37810844 0.33768409]\n",
      " [0.28474705 0.3773635  0.33788945]\n",
      " [0.28408784 0.37826414 0.33764802]\n",
      " [0.28479812 0.37730839 0.33789349]\n",
      " [0.2843661  0.37795987 0.33767403]\n",
      " [0.28393631 0.37845407 0.33760962]\n",
      " [0.28472583 0.37748879 0.33778537]\n",
      " [0.28348141 0.37890726 0.33761133]\n",
      " [0.28370341 0.37871206 0.33758453]\n",
      " [0.28450821 0.37783653 0.33765526]\n",
      " [0.28409897 0.37832843 0.33757259]\n",
      " [0.28252742 0.37963793 0.33783464]\n",
      " [0.28223578 0.37977623 0.33798799]\n",
      " [0.28273117 0.37953822 0.33773061]\n",
      " [0.28225181 0.37979821 0.33794998]\n",
      " [0.28222628 0.37982047 0.33795326]\n",
      " [0.28206084 0.37987637 0.33806278]\n",
      " [0.28179427 0.37968385 0.33852188]\n",
      " [0.28297528 0.3794158  0.33760891]\n",
      " [0.28176118 0.37979533 0.33844349]\n",
      " [0.28195455 0.37995525 0.3380902 ]\n",
      " [0.28181064 0.37995218 0.33823717]\n",
      " [0.28176093 0.37994984 0.33828924]\n",
      " [0.28171632 0.37993898 0.3383447 ]\n",
      " [0.28190499 0.38002948 0.33806554]\n",
      " [0.28171688 0.37953392 0.3387492 ]\n",
      " [0.28268581 0.37813245 0.33918174]]\n"
     ]
    }
   ],
   "source": [
    "class LayerDense:\n",
    "    def __init__(self,n_inputs,n_nuerons ):\n",
    "        self.weights=0.1*np.random.randn(n_inputs,n_nuerons)\n",
    "        self.biases=np.ones((1,n_nuerons))\n",
    "    def forward(self,inputs):\n",
    "        self.output=np.dot(inputs,self.weights)+self.biases\n",
    "\n",
    "class ActivationReLU:\n",
    "    def forward(self,inputs):\n",
    "        self.output=np.maximum(0,inputs)\n",
    "\n",
    "class SoftMax:\n",
    "\n",
    "    def forward(self,inputs):\n",
    "        exp_value=np.exp(inputs-np.max(inputs,axis=1,keepdims=True))\n",
    "        self.output=exp_value/np.sum(exp_value,axis=1,keepdims=True)\n",
    "\n",
    "\n",
    "X,y=create_dataset(100,3)\n",
    "\n",
    "dense1=LayerDense(2,3)\n",
    "activation1=ActivationReLU()\n",
    "\n",
    "dense2=LayerDense(3,3)\n",
    "activation2=SoftMax()\n",
    "\n",
    "dense1.forward(X)\n",
    "activation1.forward(dense1.output)\n",
    "print(activation1.output)\n",
    "dense2.forward(activation1.output)\n",
    "activation2.forward(dense2.output)\n",
    "print(activation2.output)\n",
    "\n",
    "\n"
   ]
  },
  {
   "attachments": {},
   "cell_type": "markdown",
   "metadata": {},
   "source": [
    "# Loss functions\n",
    "\n",
    "        Categorical Cross-Entropy loss function\n",
    "        \n"
   ]
  },
  {
   "cell_type": "code",
   "execution_count": 60,
   "metadata": {},
   "outputs": [
    {
     "name": "stdout",
     "output_type": "stream",
     "text": [
      "-2.3025850929940455\n"
     ]
    }
   ],
   "source": [
    "b=0.1\n",
    "print(np.log(b))"
   ]
  },
  {
   "cell_type": "code",
   "execution_count": 73,
   "metadata": {},
   "outputs": [
    {
     "name": "stdout",
     "output_type": "stream",
     "text": [
      "0.35667494393873245\n",
      "0.35667494393873245\n"
     ]
    }
   ],
   "source": [
    "softmax_output=[0.7,0.2,0.1]\n",
    "\n",
    "predicted_output=[1,0,0]\n",
    "\n",
    "# This is the equation which we use for categorical cross entropy loss function\n",
    "loss=-(math.log(softmax_output[0])*predicted_output[0]+math.log(softmax_output[1])*predicted_output[1]+math.log(softmax_output[2])*predicted_output[2])\n",
    "\n",
    "print(loss)\n",
    "\n",
    "#  we can also use this\n",
    "loss=-(math.log(np.max(softmax_output)))\n",
    "print(loss)\n",
    "\n"
   ]
  },
  {
   "cell_type": "code",
   "execution_count": null,
   "metadata": {},
   "outputs": [],
   "source": [
    "!git add .\n",
    "!git stage .\n",
    "!git commit -m \"started learning loss function\"\n"
   ]
  },
  {
   "cell_type": "code",
   "execution_count": null,
   "metadata": {},
   "outputs": [],
   "source": []
  }
 ],
 "metadata": {
  "kernelspec": {
   "display_name": "Python 3",
   "language": "python",
   "name": "python3"
  },
  "language_info": {
   "codemirror_mode": {
    "name": "ipython",
    "version": 3
   },
   "file_extension": ".py",
   "mimetype": "text/x-python",
   "name": "python",
   "nbconvert_exporter": "python",
   "pygments_lexer": "ipython3",
   "version": "3.10.2"
  },
  "orig_nbformat": 4
 },
 "nbformat": 4,
 "nbformat_minor": 2
}
